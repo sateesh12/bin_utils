{
 "cells": [
  {
   "cell_type": "code",
   "execution_count": null,
   "metadata": {},
   "outputs": [],
   "source": [
    "#Author : Sateesh\n",
    "#Date   : 15/Aug/2020\n",
    "#Why.   : Basics of Impage processing"
   ]
  },
  {
   "cell_type": "code",
   "execution_count": null,
   "metadata": {},
   "outputs": [],
   "source": [
    "import numpy as np\n",
    "import matplotlib.pyplot as plt"
   ]
  },
  {
   "cell_type": "code",
   "execution_count": null,
   "metadata": {},
   "outputs": [],
   "source": [
    "x = np.array([\n",
    "               [0,255,0,255],\n",
    "               [255,0,255,0]\n",
    "            ])\n",
    "plt.imshow(x,cmap='gray')\n",
    "plt.show();"
   ]
  },
  {
   "cell_type": "code",
   "execution_count": null,
   "metadata": {},
   "outputs": [],
   "source": [
    "x.shape #This being a 2D array, it is a grey scale image."
   ]
  },
  {
   "cell_type": "code",
   "execution_count": null,
   "metadata": {},
   "outputs": [],
   "source": [
    "#The way to read this 3D matrix is\n",
    "#Pixel 1 (R,G,B) Pixel 2 (R,G,B) Pixel 3 (R,G,B) \n",
    "#A row of three pixels.\n",
    "#In an Grey Scale, each pixel has one value, however in an color image,each pixel has three values aka channels\n",
    "y = np.array([\n",
    "               [\n",
    "                #Row-1\n",
    "                [255,0,0],[0,255,0],[0,0,255]\n",
    "                \n",
    "               ],\n",
    "               [\n",
    "                #Row-2\n",
    "                [0,0,255],[0,255,0],[255,0,0]\n",
    "               ]\n",
    "               \n",
    "             ])\n",
    "%matplotlib qt\n",
    "plt.imshow(y)\n",
    "plt.show();"
   ]
  },
  {
   "cell_type": "code",
   "execution_count": null,
   "metadata": {},
   "outputs": [],
   "source": [
    "y.shape #This being a 3D matrix, it is a color image."
   ]
  },
  {
   "cell_type": "code",
   "execution_count": 2,
   "metadata": {},
   "outputs": [
    {
     "name": "stdout",
     "output_type": "stream",
     "text": [
      "4.4.0\n"
     ]
    }
   ],
   "source": [
    "#Read and Display and image using Open CV\n",
    "import cv2\n",
    "print(cv2.__version__)\n",
    "im = cv2.imread('SK.jpeg')\n",
    "#cv2.imshow('SK',im)\n",
    "cv2.waitKey(0)\n",
    "cv2.destroyAllWindows()\n"
   ]
  },
  {
   "cell_type": "code",
   "execution_count": 5,
   "metadata": {},
   "outputs": [
    {
     "name": "stdout",
     "output_type": "stream",
     "text": [
      "Image Height:640\n",
      "Image Width:361\n",
      "Image Channel:3\n"
     ]
    }
   ],
   "source": [
    "#Print image characteristics\n",
    "print('Image Height:' + str(im.shape[0]))\n",
    "print('Image Width:' + str(im.shape[1]))\n",
    "print('Image Channel:' + str(im.shape[2]))"
   ]
  },
  {
   "cell_type": "raw",
   "metadata": {},
   "source": []
  }
 ],
 "metadata": {
  "kernelspec": {
   "display_name": "Python 3",
   "language": "python",
   "name": "python3"
  },
  "language_info": {
   "codemirror_mode": {
    "name": "ipython",
    "version": 3
   },
   "file_extension": ".py",
   "mimetype": "text/x-python",
   "name": "python",
   "nbconvert_exporter": "python",
   "pygments_lexer": "ipython3",
   "version": "3.7.6"
  }
 },
 "nbformat": 4,
 "nbformat_minor": 4
}
