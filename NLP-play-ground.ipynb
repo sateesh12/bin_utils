{
 "cells": [
  {
   "cell_type": "code",
   "execution_count": null,
   "metadata": {},
   "outputs": [],
   "source": [
    "#Author: Sateesh\n",
    "#Date. : 23/Aug/2020\n",
    "#Purpose: NLP play around"
   ]
  },
  {
   "cell_type": "code",
   "execution_count": null,
   "metadata": {},
   "outputs": [],
   "source": [
    "from  spacy.lang.en import English\n",
    "import spacy"
   ]
  },
  {
   "cell_type": "code",
   "execution_count": null,
   "metadata": {},
   "outputs": [],
   "source": [
    "nlp = English()\n",
    "nlp = spacy.load('en_core_web_sm')"
   ]
  },
  {
   "cell_type": "code",
   "execution_count": null,
   "metadata": {},
   "outputs": [],
   "source": [
    "#Print the pipe names\n",
    "print(nlp.pipe_names)\n",
    "#tagger = Parts of speec tagger\n",
    "#parser = Dependency Parser\n",
    "#ner    = Named Entity recognizer\n",
    "#Also tokenizer is not considered as a part of pipe-line"
   ]
  },
  {
   "cell_type": "code",
   "execution_count": null,
   "metadata": {},
   "outputs": [],
   "source": [
    "#Print the full pipe names\n",
    "print(nlp.pipeline)"
   ]
  },
  {
   "cell_type": "code",
   "execution_count": null,
   "metadata": {},
   "outputs": [],
   "source": [
    "#Write a custom component which adds sums up the number of tokens in the doc object\n",
    "from spacy.lang.en import English\n",
    "import spacy\n",
    "nlp = English()\n",
    "nlp = spacy.load('en_core_web_sm')\n",
    "\n",
    "#Create a doc object for the purpose of testing\n",
    "\n",
    "def custom_component(doc):\n",
    "    doc_length = len(doc)\n",
    "    print('Lenght of the document is:', doc_length)\n",
    "    return doc #It is important to return the doc, else all hell breaks loose !\n",
    "\n",
    "\n",
    "#Print pipeline before adding, when the doc is processed the number of tokens is not printed\n",
    "print('B4')\n",
    "doc1 = nlp('My name is sateesh')\n",
    "print(nlp.pipeline)\n",
    "\n",
    "#Now add the custom component to the standard pipeline at the start\n",
    "nlp.add_pipe(custom_component, first=True)\n",
    "\n",
    "#Print the pipeline after adding, now for every new nlp object the number of tokens is printed\n",
    "print('After')\n",
    "doc2 = nlp('My name is Sateesh')\n",
    "print(nlp.pipeline)"
   ]
  },
  {
   "cell_type": "code",
   "execution_count": 7,
   "metadata": {},
   "outputs": [
    {
     "name": "stdout",
     "output_type": "stream",
     "text": [
      "Print the pipe-line\n",
      "[('tagger', <spacy.pipeline.pipes.Tagger object at 0x7fa2b24c5950>), ('parser', <spacy.pipeline.pipes.DependencyParser object at 0x7fa2b6675b40>), ('ner', <spacy.pipeline.pipes.EntityRecognizer object at 0x7fa2b6675a60>), ('animal_detector', <function animal_detector at 0x7fa29e650ef0>)]\n",
      "In Animal detector component inside the spacy\n"
     ]
    }
   ],
   "source": [
    "#Write a custom component which identifies all animal names\n",
    "from spacy.lang.en import English\n",
    "from spacy.matcher import Matcher\n",
    "import spacy\n",
    "nlp = spacy.load('en_core_web_sm')\n",
    "\n",
    "#Create a pattern matcher\n",
    "matcher = Matcher(nlp.vocab)\n",
    "matcher.add('BB Matcher', None,[{'LOWER':'Bison'},{'Lower':'Buffalo'}])\n",
    "\n",
    "\n",
    "#Create a new component which can identify animal names\n",
    "def animal_detector(doc):\n",
    "    print('In Animal detector component inside the spacy')\n",
    "    for match_id, start, end in matcher(doc):\n",
    "        span = doc[start:end]\n",
    "        print(span.text)\n",
    "    return doc\n",
    "\n",
    "nlp.add_pipe(animal_detector,after='ner')\n",
    "print('Print the pipe-line')\n",
    "print(nlp.pipeline)\n",
    "\n",
    "doc = nlp('African Buffalo Albatross Alligator Alpaca American Bison Ant Antelope Ape ')"
   ]
  },
  {
   "cell_type": "code",
   "execution_count": null,
   "metadata": {},
   "outputs": [],
   "source": []
  }
 ],
 "metadata": {
  "kernelspec": {
   "display_name": "Python 3",
   "language": "python",
   "name": "python3"
  },
  "language_info": {
   "codemirror_mode": {
    "name": "ipython",
    "version": 3
   },
   "file_extension": ".py",
   "mimetype": "text/x-python",
   "name": "python",
   "nbconvert_exporter": "python",
   "pygments_lexer": "ipython3",
   "version": "3.7.6"
  }
 },
 "nbformat": 4,
 "nbformat_minor": 4
}
