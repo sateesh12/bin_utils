{
 "cells": [
  {
   "cell_type": "code",
   "execution_count": 1,
   "id": "5fff55a1",
   "metadata": {},
   "outputs": [],
   "source": [
    "#Who : Sateesh\n",
    "#On     : 13/Nov/2022\n",
    "#Why    : As a part of OpenCV introduction to python"
   ]
  },
  {
   "cell_type": "code",
   "execution_count": 11,
   "id": "f00cfce1",
   "metadata": {},
   "outputs": [
    {
     "name": "stdout",
     "output_type": "stream",
     "text": [
      "hello world\n"
     ]
    }
   ],
   "source": [
    "print('hello world')"
   ]
  },
  {
   "cell_type": "code",
   "execution_count": 12,
   "id": "b1413825",
   "metadata": {},
   "outputs": [
    {
     "name": "stdout",
     "output_type": "stream",
     "text": [
      "The Zen of Python, by Tim Peters\n",
      "\n",
      "Beautiful is better than ugly.\n",
      "Explicit is better than implicit.\n",
      "Simple is better than complex.\n",
      "Complex is better than complicated.\n",
      "Flat is better than nested.\n",
      "Sparse is better than dense.\n",
      "Readability counts.\n",
      "Special cases aren't special enough to break the rules.\n",
      "Although practicality beats purity.\n",
      "Errors should never pass silently.\n",
      "Unless explicitly silenced.\n",
      "In the face of ambiguity, refuse the temptation to guess.\n",
      "There should be one-- and preferably only one --obvious way to do it.\n",
      "Although that way may not be obvious at first unless you're Dutch.\n",
      "Now is better than never.\n",
      "Although never is often better than *right* now.\n",
      "If the implementation is hard to explain, it's a bad idea.\n",
      "If the implementation is easy to explain, it may be a good idea.\n",
      "Namespaces are one honking great idea -- let's do more of those!\n"
     ]
    }
   ],
   "source": [
    "import this"
   ]
  },
  {
   "cell_type": "code",
   "execution_count": 14,
   "id": "1bbb6ae2",
   "metadata": {},
   "outputs": [],
   "source": [
    "status='off'"
   ]
  },
  {
   "cell_type": "code",
   "execution_count": 24,
   "id": "c4c458e7",
   "metadata": {},
   "outputs": [],
   "source": [
    "a = '400'\n",
    "# In python variables don't have a data type\n",
    "# so every variable is an object !\n",
    "# an object has \n",
    "# ID\n",
    "# type\n",
    "# reference counter, due to usage of jupyter, there could be more than one ref count value!\n",
    "# value.\n",
    "\n",
    "# Python has a garbage collector, so when refcount == 0, then the object is removed."
   ]
  },
  {
   "cell_type": "code",
   "execution_count": 25,
   "id": "46437b0b",
   "metadata": {},
   "outputs": [],
   "source": [
    "##edit\n",
    "#a is an string"
   ]
  },
  {
   "cell_type": "code",
   "execution_count": 26,
   "id": "a1574c19",
   "metadata": {},
   "outputs": [
    {
     "data": {
      "text/plain": [
       "1730917315696"
      ]
     },
     "execution_count": 26,
     "metadata": {},
     "output_type": "execute_result"
    }
   ],
   "source": [
    "id(a)"
   ]
  },
  {
   "cell_type": "code",
   "execution_count": 27,
   "id": "f43dd7fd",
   "metadata": {},
   "outputs": [],
   "source": [
    "# id of an object returns the location of the object in memory"
   ]
  },
  {
   "cell_type": "code",
   "execution_count": 28,
   "id": "55c25079",
   "metadata": {},
   "outputs": [
    {
     "data": {
      "text/plain": [
       "str"
      ]
     },
     "execution_count": 28,
     "metadata": {},
     "output_type": "execute_result"
    }
   ],
   "source": [
    "type(a)"
   ]
  },
  {
   "cell_type": "code",
   "execution_count": 29,
   "id": "9bfe5253",
   "metadata": {},
   "outputs": [],
   "source": [
    "# type of an object returns the data type"
   ]
  },
  {
   "cell_type": "code",
   "execution_count": 31,
   "id": "a9fc3f7a",
   "metadata": {},
   "outputs": [
    {
     "data": {
      "text/plain": [
       "2"
      ]
     },
     "execution_count": 31,
     "metadata": {},
     "output_type": "execute_result"
    }
   ],
   "source": [
    "import sys\n",
    "sys.getrefcount(a)"
   ]
  },
  {
   "cell_type": "code",
   "execution_count": null,
   "id": "bec4529a",
   "metadata": {},
   "outputs": [],
   "source": []
  }
 ],
 "metadata": {
  "kernelspec": {
   "display_name": "Python 3 (ipykernel)",
   "language": "python",
   "name": "python3"
  },
  "language_info": {
   "codemirror_mode": {
    "name": "ipython",
    "version": 3
   },
   "file_extension": ".py",
   "mimetype": "text/x-python",
   "name": "python",
   "nbconvert_exporter": "python",
   "pygments_lexer": "ipython3",
   "version": "3.9.13"
  }
 },
 "nbformat": 4,
 "nbformat_minor": 5
}
