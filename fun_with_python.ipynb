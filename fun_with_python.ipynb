{
 "cells": [
  {
   "cell_type": "code",
   "execution_count": 1,
   "id": "5fff55a1",
   "metadata": {},
   "outputs": [],
   "source": [
    "#Who : Sateesh\n",
    "#On     : 13/Nov/2022\n",
    "#Why    : As a part of OpenCV introduction to python"
   ]
  },
  {
   "cell_type": "code",
   "execution_count": null,
   "id": "654e67d2",
   "metadata": {},
   "outputs": [],
   "source": []
  }
 ],
 "metadata": {
  "kernelspec": {
   "display_name": "Python 3 (ipykernel)",
   "language": "python",
   "name": "python3"
  },
  "language_info": {
   "codemirror_mode": {
    "name": "ipython",
    "version": 3
   },
   "file_extension": ".py",
   "mimetype": "text/x-python",
   "name": "python",
   "nbconvert_exporter": "python",
   "pygments_lexer": "ipython3",
   "version": "3.10.7"
  }
 },
 "nbformat": 4,
 "nbformat_minor": 5
}
