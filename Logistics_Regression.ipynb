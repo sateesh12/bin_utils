{
 "cells": [
  {
   "cell_type": "code",
   "execution_count": 1,
   "metadata": {},
   "outputs": [],
   "source": [
    "#Author : Sateesh K\n",
    "#Date   : 27/Apr/2020\n",
    "#Purpose: Abelone gender prediction.\n",
    "#   Name\t\tData Type\tMeas.\tDescription\n",
    "#\t----\t\t---------\t-----\t-----------\n",
    "#\tSex\t\tnominal\t\t\tM, F, and I (infant) ==== Indepedent variable.\n",
    "#\tLength\t\tcontinuous\tmm\tLongest shell measurement\n",
    "#\tDiameter\tcontinuous\tmm\tperpendicular to length\n",
    "#\tHeight\t\tcontinuous\tmm\twith meat in shell\n",
    "#\tWhole weight\tcontinuous\tgrams\twhole abalone\n",
    "#\tShucked weight\tcontinuous\tgrams\tweight of meat\n",
    "#\tViscera weight\tcontinuous\tgrams\tgut weight (after bleeding)\n",
    "#\tShell weight\tcontinuous\tgrams\tafter being dried\n",
    "#\tRings\t\tinteger\t\t\t+1.5 gives the age in years\n"
   ]
  },
  {
   "cell_type": "code",
   "execution_count": 3,
   "metadata": {},
   "outputs": [
    {
     "ename": "ModuleNotFoundError",
     "evalue": "No module named 'pandas'",
     "output_type": "error",
     "traceback": [
      "\u001b[1;31m---------------------------------------------------------------------------\u001b[0m",
      "\u001b[1;31mModuleNotFoundError\u001b[0m                       Traceback (most recent call last)",
      "\u001b[1;32m<ipython-input-3-23ddf80226cb>\u001b[0m in \u001b[0;36m<module>\u001b[1;34m\u001b[0m\n\u001b[0;32m      1\u001b[0m \u001b[1;31m#Load the data into a Pandas data structure\u001b[0m\u001b[1;33m\u001b[0m\u001b[1;33m\u001b[0m\u001b[1;33m\u001b[0m\u001b[0m\n\u001b[1;32m----> 2\u001b[1;33m \u001b[1;32mimport\u001b[0m \u001b[0mpandas\u001b[0m \u001b[1;32mas\u001b[0m \u001b[0mpd\u001b[0m\u001b[1;33m\u001b[0m\u001b[1;33m\u001b[0m\u001b[0m\n\u001b[0m\u001b[0;32m      3\u001b[0m \u001b[1;32mimport\u001b[0m \u001b[0mos\u001b[0m\u001b[1;33m\u001b[0m\u001b[1;33m\u001b[0m\u001b[0m\n\u001b[0;32m      4\u001b[0m \u001b[0mprint\u001b[0m\u001b[1;33m(\u001b[0m\u001b[0mos\u001b[0m\u001b[1;33m.\u001b[0m\u001b[0mgetcwd\u001b[0m\u001b[1;33m(\u001b[0m\u001b[1;33m)\u001b[0m\u001b[1;33m)\u001b[0m\u001b[1;33m\u001b[0m\u001b[1;33m\u001b[0m\u001b[0m\n",
      "\u001b[1;31mModuleNotFoundError\u001b[0m: No module named 'pandas'"
     ]
    }
   ],
   "source": [
    "#Load the data into a Pandas data structure\n",
    "import pandas as pd\n",
    "import os\n",
    "print(os.getcwd())"
   ]
  },
  {
   "cell_type": "code",
   "execution_count": 1,
   "metadata": {},
   "outputs": [
    {
     "ename": "NameError",
     "evalue": "name 'os' is not defined",
     "output_type": "error",
     "traceback": [
      "\u001b[1;31m---------------------------------------------------------------------------\u001b[0m",
      "\u001b[1;31mNameError\u001b[0m                                 Traceback (most recent call last)",
      "\u001b[1;32m<ipython-input-1-3c731045cd19>\u001b[0m in \u001b[0;36m<module>\u001b[1;34m\u001b[0m\n\u001b[0;32m      1\u001b[0m \u001b[1;31m#Copy the file to current cwd\u001b[0m\u001b[1;33m\u001b[0m\u001b[1;33m\u001b[0m\u001b[1;33m\u001b[0m\u001b[0m\n\u001b[0;32m      2\u001b[0m \u001b[1;32mfrom\u001b[0m \u001b[0mshutil\u001b[0m \u001b[1;32mimport\u001b[0m \u001b[0mcopyfile\u001b[0m\u001b[1;33m\u001b[0m\u001b[1;33m\u001b[0m\u001b[0m\n\u001b[1;32m----> 3\u001b[1;33m \u001b[0mcopyfile\u001b[0m\u001b[1;33m(\u001b[0m\u001b[1;34m'C:\\\\Users\\\\SK00642740\\\\iCloudDrive\\\\School\\\\AI\\\\Week9_Logistic_Regression\\\\abalone.csv'\u001b[0m\u001b[1;33m,\u001b[0m\u001b[0mos\u001b[0m\u001b[1;33m.\u001b[0m\u001b[0mgetcwd\u001b[0m\u001b[1;33m(\u001b[0m\u001b[1;33m)\u001b[0m \u001b[1;33m+\u001b[0m \u001b[1;34m'\\\\'\u001b[0m \u001b[1;33m+\u001b[0m \u001b[1;34m'abalone.csv'\u001b[0m\u001b[1;33m)\u001b[0m\u001b[1;33m\u001b[0m\u001b[1;33m\u001b[0m\u001b[0m\n\u001b[0m\u001b[0;32m      4\u001b[0m \u001b[0mdf\u001b[0m \u001b[1;33m=\u001b[0m \u001b[0mpd\u001b[0m\u001b[1;33m.\u001b[0m\u001b[0mread_csv\u001b[0m\u001b[1;33m(\u001b[0m\u001b[1;34m'abalone.csv'\u001b[0m\u001b[1;33m)\u001b[0m\u001b[1;33m\u001b[0m\u001b[1;33m\u001b[0m\u001b[0m\n",
      "\u001b[1;31mNameError\u001b[0m: name 'os' is not defined"
     ]
    }
   ],
   "source": [
    "#Copy the file to current cwd\n",
    "from shutil import copyfile\n",
    "copyfile('C:\\\\Users\\\\SK00642740\\\\iCloudDrive\\\\School\\\\AI\\\\Week9_Logistic_Regression\\\\abalone.csv',os.getcwd() + '\\\\' + 'abalone.csv')\n",
    "df = pd.read_csv('abalone.csv')"
   ]
  },
  {
   "cell_type": "code",
   "execution_count": 4,
   "metadata": {},
   "outputs": [
    {
     "data": {
      "text/html": [
       "<div>\n",
       "<style scoped>\n",
       "    .dataframe tbody tr th:only-of-type {\n",
       "        vertical-align: middle;\n",
       "    }\n",
       "\n",
       "    .dataframe tbody tr th {\n",
       "        vertical-align: top;\n",
       "    }\n",
       "\n",
       "    .dataframe thead th {\n",
       "        text-align: right;\n",
       "    }\n",
       "</style>\n",
       "<table border=\"1\" class=\"dataframe\">\n",
       "  <thead>\n",
       "    <tr style=\"text-align: right;\">\n",
       "      <th></th>\n",
       "      <th>Length</th>\n",
       "      <th>Diameter</th>\n",
       "      <th>Height</th>\n",
       "      <th>Whole weight</th>\n",
       "      <th>Shucked weight</th>\n",
       "      <th>Viscera weight</th>\n",
       "      <th>Shell weight</th>\n",
       "      <th>Rings</th>\n",
       "    </tr>\n",
       "  </thead>\n",
       "  <tbody>\n",
       "    <tr>\n",
       "      <th>count</th>\n",
       "      <td>4177.000000</td>\n",
       "      <td>4177.000000</td>\n",
       "      <td>4177.000000</td>\n",
       "      <td>4177.000000</td>\n",
       "      <td>4177.000000</td>\n",
       "      <td>4177.000000</td>\n",
       "      <td>4177.000000</td>\n",
       "      <td>4177.000000</td>\n",
       "    </tr>\n",
       "    <tr>\n",
       "      <th>mean</th>\n",
       "      <td>0.523992</td>\n",
       "      <td>0.407881</td>\n",
       "      <td>0.139516</td>\n",
       "      <td>0.828742</td>\n",
       "      <td>0.359367</td>\n",
       "      <td>0.180594</td>\n",
       "      <td>0.238831</td>\n",
       "      <td>9.933684</td>\n",
       "    </tr>\n",
       "    <tr>\n",
       "      <th>std</th>\n",
       "      <td>0.120093</td>\n",
       "      <td>0.099240</td>\n",
       "      <td>0.041827</td>\n",
       "      <td>0.490389</td>\n",
       "      <td>0.221963</td>\n",
       "      <td>0.109614</td>\n",
       "      <td>0.139203</td>\n",
       "      <td>3.224169</td>\n",
       "    </tr>\n",
       "    <tr>\n",
       "      <th>min</th>\n",
       "      <td>0.075000</td>\n",
       "      <td>0.055000</td>\n",
       "      <td>0.000000</td>\n",
       "      <td>0.002000</td>\n",
       "      <td>0.001000</td>\n",
       "      <td>0.000500</td>\n",
       "      <td>0.001500</td>\n",
       "      <td>1.000000</td>\n",
       "    </tr>\n",
       "    <tr>\n",
       "      <th>25%</th>\n",
       "      <td>0.450000</td>\n",
       "      <td>0.350000</td>\n",
       "      <td>0.115000</td>\n",
       "      <td>0.441500</td>\n",
       "      <td>0.186000</td>\n",
       "      <td>0.093500</td>\n",
       "      <td>0.130000</td>\n",
       "      <td>8.000000</td>\n",
       "    </tr>\n",
       "    <tr>\n",
       "      <th>50%</th>\n",
       "      <td>0.545000</td>\n",
       "      <td>0.425000</td>\n",
       "      <td>0.140000</td>\n",
       "      <td>0.799500</td>\n",
       "      <td>0.336000</td>\n",
       "      <td>0.171000</td>\n",
       "      <td>0.234000</td>\n",
       "      <td>9.000000</td>\n",
       "    </tr>\n",
       "    <tr>\n",
       "      <th>75%</th>\n",
       "      <td>0.615000</td>\n",
       "      <td>0.480000</td>\n",
       "      <td>0.165000</td>\n",
       "      <td>1.153000</td>\n",
       "      <td>0.502000</td>\n",
       "      <td>0.253000</td>\n",
       "      <td>0.329000</td>\n",
       "      <td>11.000000</td>\n",
       "    </tr>\n",
       "    <tr>\n",
       "      <th>max</th>\n",
       "      <td>0.815000</td>\n",
       "      <td>0.650000</td>\n",
       "      <td>1.130000</td>\n",
       "      <td>2.825500</td>\n",
       "      <td>1.488000</td>\n",
       "      <td>0.760000</td>\n",
       "      <td>1.005000</td>\n",
       "      <td>29.000000</td>\n",
       "    </tr>\n",
       "  </tbody>\n",
       "</table>\n",
       "</div>"
      ],
      "text/plain": [
       "          Length       Diameter      Height   Whole weight     Shucked weight  \\\n",
       "count  4177.000000  4177.000000  4177.000000      4177.000000     4177.000000   \n",
       "mean      0.523992     0.407881     0.139516         0.828742        0.359367   \n",
       "std       0.120093     0.099240     0.041827         0.490389        0.221963   \n",
       "min       0.075000     0.055000     0.000000         0.002000        0.001000   \n",
       "25%       0.450000     0.350000     0.115000         0.441500        0.186000   \n",
       "50%       0.545000     0.425000     0.140000         0.799500        0.336000   \n",
       "75%       0.615000     0.480000     0.165000         1.153000        0.502000   \n",
       "max       0.815000     0.650000     1.130000         2.825500        1.488000   \n",
       "\n",
       "       Viscera weight   Shell weight           Rings  \n",
       "count      4177.000000      4177.000000  4177.000000  \n",
       "mean          0.180594         0.238831     9.933684  \n",
       "std           0.109614         0.139203     3.224169  \n",
       "min           0.000500         0.001500     1.000000  \n",
       "25%           0.093500         0.130000     8.000000  \n",
       "50%           0.171000         0.234000     9.000000  \n",
       "75%           0.253000         0.329000    11.000000  \n",
       "max           0.760000         1.005000    29.000000  "
      ]
     },
     "execution_count": 4,
     "metadata": {},
     "output_type": "execute_result"
    }
   ],
   "source": [
    "df.describe()"
   ]
  },
  {
   "cell_type": "code",
   "execution_count": 5,
   "metadata": {},
   "outputs": [
    {
     "name": "stdout",
     "output_type": "stream",
     "text": [
      "<class 'pandas.core.frame.DataFrame'>\n",
      "RangeIndex: 4177 entries, 0 to 4176\n",
      "Data columns (total 9 columns):\n",
      " #   Column           Non-Null Count  Dtype  \n",
      "---  ------           --------------  -----  \n",
      " 0   Sex              4177 non-null   object \n",
      " 1   Length           4177 non-null   float64\n",
      " 2   Diameter         4177 non-null   float64\n",
      " 3   Height           4177 non-null   float64\n",
      " 4   Whole weight     4177 non-null   float64\n",
      " 5   Shucked weight   4177 non-null   float64\n",
      " 6   Viscera weight   4177 non-null   float64\n",
      " 7   Shell weight     4177 non-null   float64\n",
      " 8   Rings            4177 non-null   int64  \n",
      "dtypes: float64(7), int64(1), object(1)\n",
      "memory usage: 293.8+ KB\n"
     ]
    }
   ],
   "source": [
    "df.info()"
   ]
  },
  {
   "cell_type": "code",
   "execution_count": 6,
   "metadata": {},
   "outputs": [
    {
     "name": "stdout",
     "output_type": "stream",
     "text": [
      "Sex                0\n",
      "Length             0\n",
      "Diameter           0\n",
      "Height             0\n",
      "Whole weight       0\n",
      "Shucked weight     0\n",
      "Viscera weight     0\n",
      "Shell weight       0\n",
      "Rings              0\n",
      "dtype: int64\n"
     ]
    }
   ],
   "source": [
    "#Collect stats on total missing values across all features.\n",
    "print(df.isnull().sum())"
   ]
  },
  {
   "cell_type": "code",
   "execution_count": 7,
   "metadata": {},
   "outputs": [
    {
     "data": {
      "text/plain": [
       "<matplotlib.axes._subplots.AxesSubplot at 0x1e37254d358>"
      ]
     },
     "execution_count": 7,
     "metadata": {},
     "output_type": "execute_result"
    },
    {
     "data": {
      "image/png": "[encoded data removed]",
      "text/plain": [
       "<Figure size 432x288 with 2 Axes>"
      ]
     },
     "metadata": {
      "needs_background": "light"
     },
     "output_type": "display_data"
    }
   ],
   "source": [
    "#Visually take a look at co-relations among variables\n",
    "import seaborn as sns\n",
    "corr = df.corr()\n",
    "sns.heatmap(corr, annot=True)\n"
   ]
  },
  {
   "cell_type": "code",
   "execution_count": 8,
   "metadata": {},
   "outputs": [
    {
     "data": {
      "text/html": [
       "<div>\n",
       "<style scoped>\n",
       "    .dataframe tbody tr th:only-of-type {\n",
       "        vertical-align: middle;\n",
       "    }\n",
       "\n",
       "    .dataframe tbody tr th {\n",
       "        vertical-align: top;\n",
       "    }\n",
       "\n",
       "    .dataframe thead th {\n",
       "        text-align: right;\n",
       "    }\n",
       "</style>\n",
       "<table border=\"1\" class=\"dataframe\">\n",
       "  <thead>\n",
       "    <tr style=\"text-align: right;\">\n",
       "      <th></th>\n",
       "      <th>Sex</th>\n",
       "      <th>Length</th>\n",
       "      <th>Diameter</th>\n",
       "      <th>Height</th>\n",
       "      <th>Whole weight</th>\n",
       "      <th>Shucked weight</th>\n",
       "      <th>Viscera weight</th>\n",
       "      <th>Shell weight</th>\n",
       "      <th>Rings</th>\n",
       "    </tr>\n",
       "  </thead>\n",
       "  <tbody>\n",
       "    <tr>\n",
       "      <th>0</th>\n",
       "      <td>M</td>\n",
       "      <td>0.455</td>\n",
       "      <td>0.365</td>\n",
       "      <td>0.095</td>\n",
       "      <td>0.5140</td>\n",
       "      <td>0.2245</td>\n",
       "      <td>0.1010</td>\n",
       "      <td>0.150</td>\n",
       "      <td>15</td>\n",
       "    </tr>\n",
       "    <tr>\n",
       "      <th>1</th>\n",
       "      <td>M</td>\n",
       "      <td>0.350</td>\n",
       "      <td>0.265</td>\n",
       "      <td>0.090</td>\n",
       "      <td>0.2255</td>\n",
       "      <td>0.0995</td>\n",
       "      <td>0.0485</td>\n",
       "      <td>0.070</td>\n",
       "      <td>7</td>\n",
       "    </tr>\n",
       "    <tr>\n",
       "      <th>2</th>\n",
       "      <td>F</td>\n",
       "      <td>0.530</td>\n",
       "      <td>0.420</td>\n",
       "      <td>0.135</td>\n",
       "      <td>0.6770</td>\n",
       "      <td>0.2565</td>\n",
       "      <td>0.1415</td>\n",
       "      <td>0.210</td>\n",
       "      <td>9</td>\n",
       "    </tr>\n",
       "    <tr>\n",
       "      <th>3</th>\n",
       "      <td>M</td>\n",
       "      <td>0.440</td>\n",
       "      <td>0.365</td>\n",
       "      <td>0.125</td>\n",
       "      <td>0.5160</td>\n",
       "      <td>0.2155</td>\n",
       "      <td>0.1140</td>\n",
       "      <td>0.155</td>\n",
       "      <td>10</td>\n",
       "    </tr>\n",
       "    <tr>\n",
       "      <th>4</th>\n",
       "      <td>I</td>\n",
       "      <td>0.330</td>\n",
       "      <td>0.255</td>\n",
       "      <td>0.080</td>\n",
       "      <td>0.2050</td>\n",
       "      <td>0.0895</td>\n",
       "      <td>0.0395</td>\n",
       "      <td>0.055</td>\n",
       "      <td>7</td>\n",
       "    </tr>\n",
       "  </tbody>\n",
       "</table>\n",
       "</div>"
      ],
      "text/plain": [
       "  Sex  Length    Diameter  Height   Whole weight     Shucked weight  \\\n",
       "0   M     0.455     0.365    0.095           0.5140          0.2245   \n",
       "1   M     0.350     0.265    0.090           0.2255          0.0995   \n",
       "2   F     0.530     0.420    0.135           0.6770          0.2565   \n",
       "3   M     0.440     0.365    0.125           0.5160          0.2155   \n",
       "4   I     0.330     0.255    0.080           0.2050          0.0895   \n",
       "\n",
       "   Viscera weight   Shell weight     Rings  \n",
       "0           0.1010            0.150     15  \n",
       "1           0.0485            0.070      7  \n",
       "2           0.1415            0.210      9  \n",
       "3           0.1140            0.155     10  \n",
       "4           0.0395            0.055      7  "
      ]
     },
     "execution_count": 8,
     "metadata": {},
     "output_type": "execute_result"
    }
   ],
   "source": [
    "#Take a look at the data\n",
    "df.head()"
   ]
  },
  {
   "cell_type": "code",
   "execution_count": 9,
   "metadata": {},
   "outputs": [
    {
     "data": {
      "image/png": "[encoded data removed]",
      "text/plain": [
       "<Figure size 432x288 with 1 Axes>"
      ]
     },
     "metadata": {
      "needs_background": "light"
     },
     "output_type": "display_data"
    }
   ],
   "source": [
    "#Based on high co-relation watch closely relationship between each of these with outcome variable which is sex.\n",
    "%matplotlib inline\n",
    "import matplotlib.pyplot as plt\n",
    "sns.boxplot(x='Sex', y='Diameter', data=df)\n",
    "plt.show()"
   ]
  },
  {
   "cell_type": "code",
   "execution_count": 10,
   "metadata": {},
   "outputs": [
    {
     "data": {
      "image/png": "[encoded data removed]",
      "text/plain": [
       "<Figure size 432x288 with 1 Axes>"
      ]
     },
     "metadata": {
      "needs_background": "light"
     },
     "output_type": "display_data"
    }
   ],
   "source": [
    "%matplotlib inline\n",
    "import matplotlib.pyplot as plt\n",
    "sns.boxplot(x='Sex', y='Rings', data=df)\n",
    "plt.show()"
   ]
  },
  {
   "cell_type": "code",
   "execution_count": 11,
   "metadata": {},
   "outputs": [],
   "source": [
    "#%matplotlib inline\n",
    "#import matplotlib.pyplot as plt\n",
    "#sns.boxplot(x='Sex', y='Length', data=df)\n",
    "#plt.show()"
   ]
  },
  {
   "cell_type": "code",
   "execution_count": 12,
   "metadata": {},
   "outputs": [
    {
     "name": "stdout",
     "output_type": "stream",
     "text": [
      "     Sex  Length    Diameter  Height   Whole weight     Shucked weight  \\\n",
      "0      M     0.455     0.365    0.095           0.5140          0.2245   \n",
      "1      M     0.350     0.265    0.090           0.2255          0.0995   \n",
      "2      F     0.530     0.420    0.135           0.6770          0.2565   \n",
      "3      M     0.440     0.365    0.125           0.5160          0.2155   \n",
      "6      F     0.530     0.415    0.150           0.7775          0.2370   \n",
      "...   ..       ...       ...      ...              ...             ...   \n",
      "4172   F     0.565     0.450    0.165           0.8870          0.3700   \n",
      "4173   M     0.590     0.440    0.135           0.9660          0.4390   \n",
      "4174   M     0.600     0.475    0.205           1.1760          0.5255   \n",
      "4175   F     0.625     0.485    0.150           1.0945          0.5310   \n",
      "4176   M     0.710     0.555    0.195           1.9485          0.9455   \n",
      "\n",
      "      Viscera weight   Shell weight     Rings  \n",
      "0              0.1010           0.1500     15  \n",
      "1              0.0485           0.0700      7  \n",
      "2              0.1415           0.2100      9  \n",
      "3              0.1140           0.1550     10  \n",
      "6              0.1415           0.3300     20  \n",
      "...               ...              ...    ...  \n",
      "4172           0.2390           0.2490     11  \n",
      "4173           0.2145           0.2605     10  \n",
      "4174           0.2875           0.3080      9  \n",
      "4175           0.2610           0.2960     10  \n",
      "4176           0.3765           0.4950     12  \n",
      "\n",
      "[2835 rows x 9 columns]\n"
     ]
    }
   ],
   "source": [
    "#Remove all rows whose Sex value is I, this is because I represents Infant and this can neither be used for training or testing.\n",
    "new_df = df[df.Sex != 'I']\n",
    "print(new_df)"
   ]
  },
  {
   "cell_type": "code",
   "execution_count": 13,
   "metadata": {},
   "outputs": [
    {
     "name": "stdout",
     "output_type": "stream",
     "text": [
      "<class 'pandas.core.frame.DataFrame'>\n",
      "Int64Index: 2835 entries, 0 to 4176\n",
      "Data columns (total 1 columns):\n",
      " #   Column  Non-Null Count  Dtype\n",
      "---  ------  --------------  -----\n",
      " 0   Sex_M   2835 non-null   uint8\n",
      "dtypes: uint8(1)\n",
      "memory usage: 24.9 KB\n"
     ]
    }
   ],
   "source": [
    "#There is only one categorical variable, do a one-hot encoding.\n",
    "#Select the variables to be one-hot encoded\n",
    "one_hot_features = ['Sex']\n",
    "# Convert categorical variables into dummy/indicator variables (i.e. one-hot encoding).\n",
    "one_hot_encoded = pd.get_dummies(new_df[one_hot_features],drop_first=True)\n",
    "one_hot_encoded.info(verbose=True, memory_usage=True, null_counts=True)"
   ]
  },
  {
   "cell_type": "code",
   "execution_count": 14,
   "metadata": {},
   "outputs": [
    {
     "name": "stdout",
     "output_type": "stream",
     "text": [
      "<class 'pandas.core.frame.DataFrame'>\n",
      "RangeIndex: 4177 entries, 0 to 4176\n",
      "Data columns (total 9 columns):\n",
      " #   Column           Non-Null Count  Dtype  \n",
      "---  ------           --------------  -----  \n",
      " 0   Sex              4177 non-null   object \n",
      " 1   Length           4177 non-null   float64\n",
      " 2   Diameter         4177 non-null   float64\n",
      " 3   Height           4177 non-null   float64\n",
      " 4   Whole weight     4177 non-null   float64\n",
      " 5   Shucked weight   4177 non-null   float64\n",
      " 6   Viscera weight   4177 non-null   float64\n",
      " 7   Shell weight     4177 non-null   float64\n",
      " 8   Rings            4177 non-null   int64  \n",
      "dtypes: float64(7), int64(1), object(1)\n",
      "memory usage: 293.8+ KB\n"
     ]
    }
   ],
   "source": [
    "df.info()"
   ]
  },
  {
   "cell_type": "code",
   "execution_count": 15,
   "metadata": {},
   "outputs": [
    {
     "name": "stdout",
     "output_type": "stream",
     "text": [
      "<class 'pandas.core.frame.DataFrame'>\n",
      "Int64Index: 2835 entries, 0 to 4176\n",
      "Data columns (total 1 columns):\n",
      " #   Column  Non-Null Count  Dtype\n",
      "---  ------  --------------  -----\n",
      " 0   Sex_M   2835 non-null   uint8\n",
      "dtypes: uint8(1)\n",
      "memory usage: 24.9 KB\n"
     ]
    }
   ],
   "source": [
    "one_hot_encoded.info()"
   ]
  },
  {
   "cell_type": "code",
   "execution_count": 16,
   "metadata": {},
   "outputs": [
    {
     "data": {
      "text/html": [
       "<div>\n",
       "<style scoped>\n",
       "    .dataframe tbody tr th:only-of-type {\n",
       "        vertical-align: middle;\n",
       "    }\n",
       "\n",
       "    .dataframe tbody tr th {\n",
       "        vertical-align: top;\n",
       "    }\n",
       "\n",
       "    .dataframe thead th {\n",
       "        text-align: right;\n",
       "    }\n",
       "</style>\n",
       "<table border=\"1\" class=\"dataframe\">\n",
       "  <thead>\n",
       "    <tr style=\"text-align: right;\">\n",
       "      <th></th>\n",
       "      <th>Length</th>\n",
       "      <th>Diameter</th>\n",
       "      <th>Height</th>\n",
       "      <th>Whole weight</th>\n",
       "      <th>Shucked weight</th>\n",
       "      <th>Viscera weight</th>\n",
       "      <th>Shell weight</th>\n",
       "      <th>Rings</th>\n",
       "      <th>Sex_M</th>\n",
       "    </tr>\n",
       "  </thead>\n",
       "  <tbody>\n",
       "    <tr>\n",
       "      <th>0</th>\n",
       "      <td>0.455</td>\n",
       "      <td>0.365</td>\n",
       "      <td>0.095</td>\n",
       "      <td>0.5140</td>\n",
       "      <td>0.2245</td>\n",
       "      <td>0.1010</td>\n",
       "      <td>0.150</td>\n",
       "      <td>15</td>\n",
       "      <td>1</td>\n",
       "    </tr>\n",
       "    <tr>\n",
       "      <th>1</th>\n",
       "      <td>0.350</td>\n",
       "      <td>0.265</td>\n",
       "      <td>0.090</td>\n",
       "      <td>0.2255</td>\n",
       "      <td>0.0995</td>\n",
       "      <td>0.0485</td>\n",
       "      <td>0.070</td>\n",
       "      <td>7</td>\n",
       "      <td>1</td>\n",
       "    </tr>\n",
       "    <tr>\n",
       "      <th>2</th>\n",
       "      <td>0.530</td>\n",
       "      <td>0.420</td>\n",
       "      <td>0.135</td>\n",
       "      <td>0.6770</td>\n",
       "      <td>0.2565</td>\n",
       "      <td>0.1415</td>\n",
       "      <td>0.210</td>\n",
       "      <td>9</td>\n",
       "      <td>0</td>\n",
       "    </tr>\n",
       "    <tr>\n",
       "      <th>3</th>\n",
       "      <td>0.440</td>\n",
       "      <td>0.365</td>\n",
       "      <td>0.125</td>\n",
       "      <td>0.5160</td>\n",
       "      <td>0.2155</td>\n",
       "      <td>0.1140</td>\n",
       "      <td>0.155</td>\n",
       "      <td>10</td>\n",
       "      <td>1</td>\n",
       "    </tr>\n",
       "    <tr>\n",
       "      <th>6</th>\n",
       "      <td>0.530</td>\n",
       "      <td>0.415</td>\n",
       "      <td>0.150</td>\n",
       "      <td>0.7775</td>\n",
       "      <td>0.2370</td>\n",
       "      <td>0.1415</td>\n",
       "      <td>0.330</td>\n",
       "      <td>20</td>\n",
       "      <td>0</td>\n",
       "    </tr>\n",
       "  </tbody>\n",
       "</table>\n",
       "</div>"
      ],
      "text/plain": [
       "   Length    Diameter  Height   Whole weight     Shucked weight  \\\n",
       "0     0.455     0.365    0.095           0.5140          0.2245   \n",
       "1     0.350     0.265    0.090           0.2255          0.0995   \n",
       "2     0.530     0.420    0.135           0.6770          0.2565   \n",
       "3     0.440     0.365    0.125           0.5160          0.2155   \n",
       "6     0.530     0.415    0.150           0.7775          0.2370   \n",
       "\n",
       "   Viscera weight   Shell weight     Rings  Sex_M  \n",
       "0           0.1010            0.150     15      1  \n",
       "1           0.0485            0.070      7      1  \n",
       "2           0.1415            0.210      9      0  \n",
       "3           0.1140            0.155     10      1  \n",
       "6           0.1415            0.330     20      0  "
      ]
     },
     "execution_count": 16,
     "metadata": {},
     "output_type": "execute_result"
    }
   ],
   "source": [
    "# Replacing categorical columns with dummies\n",
    "fdf = new_df.drop(one_hot_features,axis=1)\n",
    "fdf = pd.concat([fdf, one_hot_encoded] ,axis=1)\n",
    "fdf.head()"
   ]
  },
  {
   "cell_type": "code",
   "execution_count": 45,
   "metadata": {},
   "outputs": [
    {
     "name": "stdout",
     "output_type": "stream",
     "text": [
      "Index(['Length', 'Diameter', 'Height', 'WholeWeight', 'Shucked weight',\n",
      "       'VisceraWeight', 'ShellWeight', 'Rings', 'Sex_M'],\n",
      "      dtype='object')\n",
      "Index(['Length', 'Diameter', 'Height', 'WholeWeight', 'ShuckedWeight',\n",
      "       'VisceraWeight', 'ShellWeight', 'Rings', 'Sex_M'],\n",
      "      dtype='object')\n"
     ]
    },
    {
     "data": {
      "text/plain": [
       "<matplotlib.axes._subplots.AxesSubplot at 0x1e375bdd0b8>"
      ]
     },
     "execution_count": 45,
     "metadata": {},
     "output_type": "execute_result"
    },
    {
     "data": {
      "image/png": "[encoded data removed]",
      "text/plain": [
       "<Figure size 432x288 with 1 Axes>"
      ]
     },
     "metadata": {
      "needs_background": "light"
     },
     "output_type": "display_data"
    }
   ],
   "source": [
    "#Do a Pandas profiling to check if the varibales need to be standardized.\n",
    "import pandas_profiling\n",
    "import pandas as pd\n",
    "#report = pandas_profiling.ProfileReport(df)\n",
    "#pd.show_versions()\n",
    "#report.to_file(\"abelone_profile.html\")\n",
    "\n",
    "#As Pandas profiling is not working manually plot the variables to check if they are normally distributed or not.\n",
    "print(fdf.columns)\n",
    "#By looking at the above outputs it is clear there are hidden white spaces.\n",
    "fdf = fdf.rename(columns={'Length': 'Length'})\n",
    "fdf = fdf.rename(columns={'Heigth': 'Height'})\n",
    "fdf = fdf.rename(columns={'Whole weight': 'WholeWeight'})\n",
    "fdf = fdf.rename(columns={'Shucked weight': 'ShuckedWeight'})\n",
    "fdf = fdf.rename(columns={'Viscera weight': 'VisceraWeight'})\n",
    "fdf = fdf.rename(columns={'Shell weight': 'ShellWeight'})\n",
    "print(fdf.columns)\n",
    "\n",
    "import seaborn as sns\n",
    "sns.distplot(fdf.Length)  #Not sure why fdf.Length does not work !\n",
    "sns.distplot(fdf.Diameter)\n",
    "sns.distplot(fdf.Height)\n",
    "sns.distplot(fdf.WholeWeight)\n",
    "sns.distplot(fdf.ShuckedWeight)\n",
    "sns.distplot(fdf.VisceraWeight)\n",
    "sns.distplot(fdf.ShellWeight)"
   ]
  },
  {
   "cell_type": "code",
   "execution_count": 18,
   "metadata": {},
   "outputs": [
    {
     "data": {
      "text/plain": [
       "<matplotlib.axes._subplots.AxesSubplot at 0x1e373507a58>"
      ]
     },
     "execution_count": 18,
     "metadata": {},
     "output_type": "execute_result"
    },
    {
     "data": {
      "image/png": "[encoded data removed]",
      "text/plain": [
       "<Figure size 432x288 with 1 Axes>"
      ]
     },
     "metadata": {
      "needs_background": "light"
     },
     "output_type": "display_data"
    }
   ],
   "source": [
    "#Plot rings seperately as it makes the previous graph look not legible.\n",
    "sns.distplot(fdf.Rings)"
   ]
  },
  {
   "cell_type": "code",
   "execution_count": 48,
   "metadata": {},
   "outputs": [],
   "source": [
    "#Now start to build the dependent and independent variables list\n",
    "X = fdf.drop(['Sex_M'],axis=1)\n",
    "y = fdf['Sex_M']\n",
    "\n",
    "from sklearn.preprocessing import StandardScaler\n",
    "scaler = StandardScaler()\n",
    "scaler.fit(X)\n",
    "\n",
    "# Scale and center the data\n",
    "fdf_normalized = scaler.transform(X)\n",
    "\n",
    "# Create a pandas DataFrame of independent variables.\n",
    "fdf_normalized = pd.DataFrame(data=fdf_normalized, index=X.index, columns=X.columns)\n"
   ]
  },
  {
   "cell_type": "markdown",
   "metadata": {},
   "source": [
    "## ToDo: Create a function to put all the plotting into one method."
   ]
  },
  {
   "cell_type": "code",
   "execution_count": 49,
   "metadata": {},
   "outputs": [
    {
     "data": {
      "text/plain": [
       "<matplotlib.axes._subplots.AxesSubplot at 0x1e3764231d0>"
      ]
     },
     "execution_count": 49,
     "metadata": {},
     "output_type": "execute_result"
    },
    {
     "data": {
      "image/png": "[encoded data removed]",
      "text/plain": [
       "<Figure size 432x288 with 1 Axes>"
      ]
     },
     "metadata": {
      "needs_background": "light"
     },
     "output_type": "display_data"
    }
   ],
   "source": [
    "#Now plot to verify how the normalized values look\n",
    "import seaborn as sns\n",
    "#Need to build a fucntion here, but for now\n",
    "#sns.distplot(fdf_normalized.iloc[:,0])  #Not sure why fdf.Length does not work !\n",
    "#sns.distplot(fdf_normalized.Diameter)\n",
    "#sns.distplot(fdf_normalized.iloc[:,2])\n",
    "#sns.distplot(fdf_normalized.iloc[:,3])\n",
    "#sns.distplot(fdf_normalized.iloc[:,4])\n",
    "#sns.distplot(fdf_normalized.iloc[:,5])\n",
    "#sns.distplot(fdf_normalized.iloc[:,6])\n",
    "\n",
    "sns.distplot(fdf.Length)  #Not sure why fdf.Length does not work !\n",
    "sns.distplot(fdf.Diameter)\n",
    "sns.distplot(fdf.Height)\n",
    "sns.distplot(fdf.WholeWeight)\n",
    "sns.distplot(fdf.ShuckedWeight)\n",
    "sns.distplot(fdf.VisceraWeight)\n",
    "sns.distplot(fdf.ShellWeight)\n"
   ]
  },
  {
   "cell_type": "code",
   "execution_count": 50,
   "metadata": {},
   "outputs": [
    {
     "data": {
      "text/plain": [
       "<matplotlib.axes._subplots.AxesSubplot at 0x1e375fe0978>"
      ]
     },
     "execution_count": 50,
     "metadata": {},
     "output_type": "execute_result"
    },
    {
     "data": {
      "image/png": "[encoded data removed]",
      "text/plain": [
       "<Figure size 432x288 with 1 Axes>"
      ]
     },
     "metadata": {
      "needs_background": "light"
     },
     "output_type": "display_data"
    }
   ],
   "source": [
    "# This variable needs to be outside\n",
    "sns.distplot(fdf_normalized.Rings)"
   ]
  },
  {
   "cell_type": "markdown",
   "metadata": {},
   "source": [
    "# The normalized cells and unnormalized cells look the same, please clarify. I was expecting the rings variable after normalizing to be between -3 to +3"
   ]
  },
  {
   "cell_type": "code",
   "execution_count": 51,
   "metadata": {},
   "outputs": [
    {
     "name": "stdout",
     "output_type": "stream",
     "text": [
      "        Length  Diameter    Height  WholeWeight  ShuckedWeight  VisceraWeight  \\\n",
      "1109 -0.517224 -0.588655 -0.252237    -0.530411      -0.407958      -0.373310   \n",
      "1139  0.056866  0.299261  0.282311    -0.326279      -0.019093      -0.250596   \n",
      "327  -0.621604 -0.588655 -0.653147    -0.823920      -0.796824      -0.550019   \n",
      "4144  1.048476  1.123754  0.950495     1.439190       1.449167       0.696760   \n",
      "596  -0.204084 -0.208120 -0.385874    -0.669442      -0.860456      -0.358584   \n",
      "\n",
      "      ShellWeight     Rings  \n",
      "1109    -0.824522 -0.619440  \n",
      "1139    -0.413070 -0.619440  \n",
      "327     -0.669257  0.358169  \n",
      "4144     1.683005  0.032300  \n",
      "596     -0.513992 -0.619440  \n"
     ]
    },
    {
     "data": {
      "text/plain": [
       "1109    1\n",
       "1139    0\n",
       "327     1\n",
       "4144    1\n",
       "596     0\n",
       "       ..\n",
       "4020    0\n",
       "2998    0\n",
       "858     0\n",
       "1955    0\n",
       "973     1\n",
       "Name: Sex_M, Length: 1984, dtype: uint8"
      ]
     },
     "execution_count": 51,
     "metadata": {},
     "output_type": "execute_result"
    }
   ],
   "source": [
    "#Split the data into training and testing\n",
    "from sklearn.model_selection import train_test_split\n",
    "X_train, X_test, y_train, y_test = train_test_split(fdf_normalized,y,random_state=1234,test_size=0.3)\n",
    "print(X_train.head())\n",
    "y_train\n"
   ]
  },
  {
   "cell_type": "code",
   "execution_count": 52,
   "metadata": {},
   "outputs": [
    {
     "name": "stdout",
     "output_type": "stream",
     "text": [
      "[[-0.15988037 -0.37838825 -0.16117002  0.01734874  0.5161263  -0.27717367\n",
      "   0.25439882 -0.05163928]]\n",
      "[0.1594996]\n"
     ]
    }
   ],
   "source": [
    "# Train the model\n",
    "from sklearn.linear_model import LogisticRegression\n",
    "logreg = LogisticRegression(C=1)                            # Set Large C value for low regularization to prevent overfitting\n",
    "logreg.fit(X_train, y_train)\n",
    "\n",
    "print(logreg.coef_)                                            # Coefficients for Logistic Regression\n",
    "print(logreg.intercept_)\n",
    "#The logreg is an mathematical representation of the co-effecients of a linear equation.\n",
    "# y = Ax1 + Bx2 + Cx3 .... + Z"
   ]
  },
  {
   "cell_type": "code",
   "execution_count": 53,
   "metadata": {},
   "outputs": [],
   "source": [
    "#Test the model\n",
    "y_pred_test = logreg.predict(X_test)  #This is data predicted by the model with test data (Data reserved for checking accuracy of the model)\n",
    "y_pred_train = logreg.predict(X_train) #This is the predcited values for training set itself, so here we can compare y_pred_train with y_test"
   ]
  },
  {
   "cell_type": "code",
   "execution_count": 54,
   "metadata": {},
   "outputs": [
    {
     "name": "stdout",
     "output_type": "stream",
     "text": [
      "Test Accuracy:  0.5605170387779084\n"
     ]
    }
   ],
   "source": [
    "#Accuracy of the model\n",
    "from sklearn import metrics\n",
    "# comparing the metrics of predicted lebel and real label of test data\n",
    "print(\"Test Accuracy: \", metrics.accuracy_score(y_test, y_pred_test))\n",
    "\n",
    "#MODEL PREDICTIONS VS. TEST DATA VALUES."
   ]
  },
  {
   "cell_type": "code",
   "execution_count": 55,
   "metadata": {},
   "outputs": [
    {
     "name": "stdout",
     "output_type": "stream",
     "text": [
      "Train Accuracy:  0.5665322580645161\n"
     ]
    }
   ],
   "source": [
    "# comparing the metrics of predicted lebel and real label of test data\n",
    "print(\"Train Accuracy: \", metrics.accuracy_score(y_train, y_pred_train))\n",
    "\n",
    "#MODEL PREDICTIONS VS. EXISTING TRAINING DATA-SET"
   ]
  },
  {
   "cell_type": "code",
   "execution_count": 56,
   "metadata": {},
   "outputs": [
    {
     "data": {
      "text/plain": [
       "1    0.544066\n",
       "Name: Sex_M, dtype: float64"
      ]
     },
     "execution_count": 56,
     "metadata": {},
     "output_type": "execute_result"
    }
   ],
   "source": [
    "# Null accuracy\n",
    "# Actual Values of y_test\n",
    "y_test.value_counts()\n",
    "y_test.value_counts().head(1) / len(y_test)"
   ]
  },
  {
   "cell_type": "code",
   "execution_count": null,
   "metadata": {},
   "outputs": [],
   "source": []
  }
 ],
 "metadata": {
  "kernelspec": {
   "display_name": "Python 3",
   "language": "python",
   "name": "python3"
  },
  "language_info": {
   "codemirror_mode": {
    "name": "ipython",
    "version": 3
   },
   "file_extension": ".py",
   "mimetype": "text/x-python",
   "name": "python",
   "nbconvert_exporter": "python",
   "pygments_lexer": "ipython3",
   "version": "3.7.6"
  }
 },
 "nbformat": 4,
 "nbformat_minor": 4
}
