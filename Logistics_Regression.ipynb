{
 "cells": [
  {
   "cell_type": "code",
   "execution_count": null,
   "metadata": {},
   "outputs": [],
   "source": [
    "#Author : Sateesh K\n",
    "#Date   : 27/Apr/2020\n",
    "#Purpose: Abelone gender prediction.\n",
    "#   Name\t\tData Type\tMeas.\tDescription\n",
    "#\t----\t\t---------\t-----\t-----------\n",
    "#\tSex\t\tnominal\t\t\tM, F, and I (infant) ==== Indepedent variable.\n",
    "#\tLength\t\tcontinuous\tmm\tLongest shell measurement\n",
    "#\tDiameter\tcontinuous\tmm\tperpendicular to length\n",
    "#\tHeight\t\tcontinuous\tmm\twith meat in shell\n",
    "#\tWhole weight\tcontinuous\tgrams\twhole abalone\n",
    "#\tShucked weight\tcontinuous\tgrams\tweight of meat\n",
    "#\tViscera weight\tcontinuous\tgrams\tgut weight (after bleeding)\n",
    "#\tShell weight\tcontinuous\tgrams\tafter being dried\n",
    "#\tRings\t\tinteger\t\t\t+1.5 gives the age in years\n"
   ]
  },
  {
   "cell_type": "code",
   "execution_count": 3,
   "metadata": {},
   "outputs": [
    {
     "name": "stdout",
     "output_type": "stream",
     "text": [
      "C:\\Users\\SK00642740\\SateeshK\\src\\py_utils\n"
     ]
    }
   ],
   "source": [
    "#Load the data into a Pandas data structure\n",
    "import pandas as pd\n",
    "import os\n",
    "print(os.getcwd())"
   ]
  },
  {
   "cell_type": "code",
   "execution_count": 14,
   "metadata": {},
   "outputs": [],
   "source": [
    "#Copy the file to current cwd\n",
    "from shutil import copyfile\n",
    "copyfile('C:\\\\Users\\\\SK00642740\\\\iCloudDrive\\\\School\\\\AI\\\\Week9_Logistic_Regression\\\\abalone.csv',os.getcwd() + '\\\\' + 'abalone.csv')\n",
    "df = pd.read_csv('abalone.csv')"
   ]
  },
  {
   "cell_type": "code",
   "execution_count": 15,
   "metadata": {},
   "outputs": [
    {
     "data": {
      "text/html": [
       "<div>\n",
       "<style scoped>\n",
       "    .dataframe tbody tr th:only-of-type {\n",
       "        vertical-align: middle;\n",
       "    }\n",
       "\n",
       "    .dataframe tbody tr th {\n",
       "        vertical-align: top;\n",
       "    }\n",
       "\n",
       "    .dataframe thead th {\n",
       "        text-align: right;\n",
       "    }\n",
       "</style>\n",
       "<table border=\"1\" class=\"dataframe\">\n",
       "  <thead>\n",
       "    <tr style=\"text-align: right;\">\n",
       "      <th></th>\n",
       "      <th>Length</th>\n",
       "      <th>Diameter</th>\n",
       "      <th>Height</th>\n",
       "      <th>Whole weight</th>\n",
       "      <th>Shucked weight</th>\n",
       "      <th>Viscera weight</th>\n",
       "      <th>Shell weight</th>\n",
       "      <th>Rings</th>\n",
       "    </tr>\n",
       "  </thead>\n",
       "  <tbody>\n",
       "    <tr>\n",
       "      <th>count</th>\n",
       "      <td>4177.000000</td>\n",
       "      <td>4177.000000</td>\n",
       "      <td>4177.000000</td>\n",
       "      <td>4177.000000</td>\n",
       "      <td>4177.000000</td>\n",
       "      <td>4177.000000</td>\n",
       "      <td>4177.000000</td>\n",
       "      <td>4177.000000</td>\n",
       "    </tr>\n",
       "    <tr>\n",
       "      <th>mean</th>\n",
       "      <td>0.523992</td>\n",
       "      <td>0.407881</td>\n",
       "      <td>0.139516</td>\n",
       "      <td>0.828742</td>\n",
       "      <td>0.359367</td>\n",
       "      <td>0.180594</td>\n",
       "      <td>0.238831</td>\n",
       "      <td>9.933684</td>\n",
       "    </tr>\n",
       "    <tr>\n",
       "      <th>std</th>\n",
       "      <td>0.120093</td>\n",
       "      <td>0.099240</td>\n",
       "      <td>0.041827</td>\n",
       "      <td>0.490389</td>\n",
       "      <td>0.221963</td>\n",
       "      <td>0.109614</td>\n",
       "      <td>0.139203</td>\n",
       "      <td>3.224169</td>\n",
       "    </tr>\n",
       "    <tr>\n",
       "      <th>min</th>\n",
       "      <td>0.075000</td>\n",
       "      <td>0.055000</td>\n",
       "      <td>0.000000</td>\n",
       "      <td>0.002000</td>\n",
       "      <td>0.001000</td>\n",
       "      <td>0.000500</td>\n",
       "      <td>0.001500</td>\n",
       "      <td>1.000000</td>\n",
       "    </tr>\n",
       "    <tr>\n",
       "      <th>25%</th>\n",
       "      <td>0.450000</td>\n",
       "      <td>0.350000</td>\n",
       "      <td>0.115000</td>\n",
       "      <td>0.441500</td>\n",
       "      <td>0.186000</td>\n",
       "      <td>0.093500</td>\n",
       "      <td>0.130000</td>\n",
       "      <td>8.000000</td>\n",
       "    </tr>\n",
       "    <tr>\n",
       "      <th>50%</th>\n",
       "      <td>0.545000</td>\n",
       "      <td>0.425000</td>\n",
       "      <td>0.140000</td>\n",
       "      <td>0.799500</td>\n",
       "      <td>0.336000</td>\n",
       "      <td>0.171000</td>\n",
       "      <td>0.234000</td>\n",
       "      <td>9.000000</td>\n",
       "    </tr>\n",
       "    <tr>\n",
       "      <th>75%</th>\n",
       "      <td>0.615000</td>\n",
       "      <td>0.480000</td>\n",
       "      <td>0.165000</td>\n",
       "      <td>1.153000</td>\n",
       "      <td>0.502000</td>\n",
       "      <td>0.253000</td>\n",
       "      <td>0.329000</td>\n",
       "      <td>11.000000</td>\n",
       "    </tr>\n",
       "    <tr>\n",
       "      <th>max</th>\n",
       "      <td>0.815000</td>\n",
       "      <td>0.650000</td>\n",
       "      <td>1.130000</td>\n",
       "      <td>2.825500</td>\n",
       "      <td>1.488000</td>\n",
       "      <td>0.760000</td>\n",
       "      <td>1.005000</td>\n",
       "      <td>29.000000</td>\n",
       "    </tr>\n",
       "  </tbody>\n",
       "</table>\n",
       "</div>"
      ],
      "text/plain": [
       "          Length       Diameter      Height   Whole weight     Shucked weight  \\\n",
       "count  4177.000000  4177.000000  4177.000000      4177.000000     4177.000000   \n",
       "mean      0.523992     0.407881     0.139516         0.828742        0.359367   \n",
       "std       0.120093     0.099240     0.041827         0.490389        0.221963   \n",
       "min       0.075000     0.055000     0.000000         0.002000        0.001000   \n",
       "25%       0.450000     0.350000     0.115000         0.441500        0.186000   \n",
       "50%       0.545000     0.425000     0.140000         0.799500        0.336000   \n",
       "75%       0.615000     0.480000     0.165000         1.153000        0.502000   \n",
       "max       0.815000     0.650000     1.130000         2.825500        1.488000   \n",
       "\n",
       "       Viscera weight   Shell weight           Rings  \n",
       "count      4177.000000      4177.000000  4177.000000  \n",
       "mean          0.180594         0.238831     9.933684  \n",
       "std           0.109614         0.139203     3.224169  \n",
       "min           0.000500         0.001500     1.000000  \n",
       "25%           0.093500         0.130000     8.000000  \n",
       "50%           0.171000         0.234000     9.000000  \n",
       "75%           0.253000         0.329000    11.000000  \n",
       "max           0.760000         1.005000    29.000000  "
      ]
     },
     "execution_count": 15,
     "metadata": {},
     "output_type": "execute_result"
    }
   ],
   "source": [
    "df.describe()"
   ]
  },
  {
   "cell_type": "code",
   "execution_count": 16,
   "metadata": {},
   "outputs": [
    {
     "name": "stdout",
     "output_type": "stream",
     "text": [
      "<class 'pandas.core.frame.DataFrame'>\n",
      "RangeIndex: 4177 entries, 0 to 4176\n",
      "Data columns (total 9 columns):\n",
      " #   Column           Non-Null Count  Dtype  \n",
      "---  ------           --------------  -----  \n",
      " 0   Sex              4177 non-null   object \n",
      " 1   Length           4177 non-null   float64\n",
      " 2   Diameter         4177 non-null   float64\n",
      " 3   Height           4177 non-null   float64\n",
      " 4   Whole weight     4177 non-null   float64\n",
      " 5   Shucked weight   4177 non-null   float64\n",
      " 6   Viscera weight   4177 non-null   float64\n",
      " 7   Shell weight     4177 non-null   float64\n",
      " 8   Rings            4177 non-null   int64  \n",
      "dtypes: float64(7), int64(1), object(1)\n",
      "memory usage: 293.8+ KB\n"
     ]
    }
   ],
   "source": [
    "df.info()"
   ]
  },
  {
   "cell_type": "code",
   "execution_count": 17,
   "metadata": {},
   "outputs": [
    {
     "name": "stdout",
     "output_type": "stream",
     "text": [
      "Sex                0\n",
      "Length             0\n",
      "Diameter           0\n",
      "Height             0\n",
      "Whole weight       0\n",
      "Shucked weight     0\n",
      "Viscera weight     0\n",
      "Shell weight       0\n",
      "Rings              0\n",
      "dtype: int64\n"
     ]
    }
   ],
   "source": [
    "#Collect stats on total missing values across all features.\n",
    "print(df.isnull().sum())"
   ]
  },
  {
   "cell_type": "code",
   "execution_count": null,
   "metadata": {},
   "outputs": [],
   "source": []
  }
 ],
 "metadata": {
  "kernelspec": {
   "display_name": "Python 3",
   "language": "python",
   "name": "python3"
  },
  "language_info": {
   "codemirror_mode": {
    "name": "ipython",
    "version": 3
   },
   "file_extension": ".py",
   "mimetype": "text/x-python",
   "name": "python",
   "nbconvert_exporter": "python",
   "pygments_lexer": "ipython3",
   "version": "3.7.3"
  }
 },
 "nbformat": 4,
 "nbformat_minor": 4
}
