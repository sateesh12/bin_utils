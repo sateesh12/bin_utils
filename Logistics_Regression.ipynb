{
 "cells": [
  {
   "cell_type": "code",
   "execution_count": null,
   "metadata": {},
   "outputs": [],
   "source": [
    "#Author : Sateesh K\n",
    "#Date   : 27/Apr/2020\n",
    "#Purpose: Abelone gender prediction.\n",
    "#   Name\t\tData Type\tMeas.\tDescription\n",
    "#\t----\t\t---------\t-----\t-----------\n",
    "#\tSex\t\tnominal\t\t\tM, F, and I (infant) ==== Indepedent variable.\n",
    "#\tLength\t\tcontinuous\tmm\tLongest shell measurement\n",
    "#\tDiameter\tcontinuous\tmm\tperpendicular to length\n",
    "#\tHeight\t\tcontinuous\tmm\twith meat in shell\n",
    "#\tWhole weight\tcontinuous\tgrams\twhole abalone\n",
    "#\tShucked weight\tcontinuous\tgrams\tweight of meat\n",
    "#\tViscera weight\tcontinuous\tgrams\tgut weight (after bleeding)\n",
    "#\tShell weight\tcontinuous\tgrams\tafter being dried\n",
    "#\tRings\t\tinteger\t\t\t+1.5 gives the age in years\n"
   ]
  },
  {
   "cell_type": "code",
   "execution_count": null,
   "metadata": {},
   "outputs": [],
   "source": []
  }
 ],
 "metadata": {
  "kernelspec": {
   "display_name": "Python 3",
   "language": "python",
   "name": "python3"
  },
  "language_info": {
   "codemirror_mode": {
    "name": "ipython",
    "version": 3
   },
   "file_extension": ".py",
   "mimetype": "text/x-python",
   "name": "python",
   "nbconvert_exporter": "python",
   "pygments_lexer": "ipython3",
   "version": "3.7.3"
  }
 },
 "nbformat": 4,
 "nbformat_minor": 4
}
